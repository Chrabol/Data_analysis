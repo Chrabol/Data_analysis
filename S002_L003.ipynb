{
 "cells": [
  {
   "cell_type": "markdown",
   "metadata": {},
   "source": [
    "S02-L003 - LAB - Ręczne tworzenie Data Series\n",
    "1. Zaimportuj moduły: pandas, 1. numpy, matplotlib (tylko pyplot), math i nadaj im standardowe aliasy"
   ]
  },
  {
   "cell_type": "code",
   "execution_count": 1,
   "metadata": {},
   "outputs": [],
   "source": [
    "import pandas as pd\n",
    "import numpy as np\n",
    "import matplotlib.pyplot as plt\n",
    "import math as math"
   ]
  },
  {
   "cell_type": "markdown",
   "metadata": {},
   "source": [
    "2. Utwórz listę dni tygodnia i nazwij ją weekdays\n",
    "3. W oparciu o tą listę utwórz obiekt Data Series. Zapisz go w zmiennej weekdaysSeries i wyświetl tą zmienną.\n",
    "4. Utwórz listę freeDays, która bedzie zawierała tyle samo elementów co lista weekdays. W kolejnych pozycjach\n",
    "tej listy zapisuj informację True/False oznaczającą, czy dany dzień tygodnia jest wolny czy nie."
   ]
  },
  {
   "cell_type": "code",
   "execution_count": 3,
   "metadata": {},
   "outputs": [
    {
     "data": {
      "text/plain": [
       "0    1\n",
       "1    2\n",
       "2    3\n",
       "3    4\n",
       "4    5\n",
       "5    6\n",
       "6    7\n",
       "dtype: int32"
      ]
     },
     "execution_count": 3,
     "metadata": {},
     "output_type": "execute_result"
    }
   ],
   "source": [
    "weekdays=np.arange(1,8,1)\n",
    "weekdays=pd.Series(weekdays)\n",
    "weekdays\n",
    "freeDays=(True for m in weekdays if m=6 eles False)"
   ]
  },
  {
   "cell_type": "markdown",
   "metadata": {},
   "source": [
    "5. W oparciu o listę freeDays utwórz obiekt Data Series. Zapisz go w zmiennej freeDaysSeries i wyświetl tą\n",
    "zmienną. Zwróć uwagę na typ listy"
   ]
  },
  {
   "cell_type": "markdown",
   "metadata": {},
   "source": [
    "6. Utwórz hash table (dictionary) o nazwie holidays, gdzie kluczem jest nazwa święta, a wartością data, (bez\n",
    "przesady - do ćwiczenia 3 święta wystarczą), np.\n",
    "New Year - 2018-01-01\n",
    "Epiphany - 2018-01-06\n",
    "Easter - 2018-04-01"
   ]
  },
  {
   "cell_type": "markdown",
   "metadata": {},
   "source": [
    "7. W oparciu o hash table holidays utwórz Data Series i zapisz go w zmiennej holidaysSeries i wyświetl tą\n",
    "zmienną."
   ]
  }
 ],
 "metadata": {
  "interpreter": {
   "hash": "6d46af94c2bbce495f1e668725902fa517c90b1782bcfe2fce0dd9868df553d3"
  },
  "kernelspec": {
   "display_name": "Python 3.8.5 ('base')",
   "language": "python",
   "name": "python3"
  },
  "language_info": {
   "codemirror_mode": {
    "name": "ipython",
    "version": 3
   },
   "file_extension": ".py",
   "mimetype": "text/x-python",
   "name": "python",
   "nbconvert_exporter": "python",
   "pygments_lexer": "ipython3",
   "version": "3.8.5"
  },
  "orig_nbformat": 4
 },
 "nbformat": 4,
 "nbformat_minor": 2
}
